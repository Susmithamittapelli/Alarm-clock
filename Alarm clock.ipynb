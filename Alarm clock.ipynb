{
 "cells": [
  {
   "cell_type": "code",
   "execution_count": 1,
   "id": "90cbca73",
   "metadata": {},
   "outputs": [],
   "source": [
    "# Import Required Library\n",
    "from tkinter import *\n",
    "import datetime\n",
    "import time\n",
    "import winsound\n",
    "from threading import *"
   ]
  },
  {
   "cell_type": "code",
   "execution_count": 2,
   "id": "ce1cc164",
   "metadata": {},
   "outputs": [],
   "source": [
    "# Create Object\n",
    "root = Tk()"
   ]
  },
  {
   "cell_type": "code",
   "execution_count": 3,
   "id": "ce1eae76",
   "metadata": {},
   "outputs": [
    {
     "data": {
      "text/plain": [
       "''"
      ]
     },
     "execution_count": 3,
     "metadata": {},
     "output_type": "execute_result"
    }
   ],
   "source": [
    "# Set geometry\n",
    "root.geometry(\"400x200\")"
   ]
  },
  {
   "cell_type": "code",
   "execution_count": 4,
   "id": "ea38bee9",
   "metadata": {},
   "outputs": [],
   "source": [
    "# Use Threading\n",
    "def Threading():\n",
    "\tt1=Thread(target=alarm)\n",
    "\tt1.start()"
   ]
  },
  {
   "cell_type": "code",
   "execution_count": 5,
   "id": "9b0e6a98",
   "metadata": {},
   "outputs": [],
   "source": [
    "def alarm():\n",
    "\t# Infinite Loop\n",
    "\twhile True:\n",
    "\t\t# Set Alarm\n",
    "\t\tset_alarm_time = f\"{hour.get()}:{minute.get()}:{second.get()}\"\n",
    "\n",
    "\t\t# Wait for one seconds\n",
    "\t\ttime.sleep(1)\n",
    "\n",
    "\t\t# Get current time\n",
    "\t\tcurrent_time = datetime.datetime.now().strftime(\"%H:%M:%S\")\n",
    "\t\tprint(current_time,set_alarm_time)\n",
    "\n",
    "\t\t# Check whether set alarm is equal to current time or not\n",
    "\t\tif current_time == set_alarm_time:\n",
    "\t\t\tprint(\"Time to Wake up\")\n",
    "\t\t\t# Playing sound\n",
    "\t\t\twinsound.PlaySound(\"sound.wav\",winsound.SND_ASYNC)"
   ]
  },
  {
   "cell_type": "code",
   "execution_count": 6,
   "id": "3c851f99",
   "metadata": {},
   "outputs": [],
   "source": [
    "# Add Labels, Frame, Button, Optionmenus\n",
    "Label(root,text=\"Alarm Clock\",font=(\"Helvetica 20 bold\"),fg=\"red\").pack(pady=10)\n",
    "Label(root,text=\"Set Time\",font=(\"Helvetica 15 bold\")).pack()\n"
   ]
  },
  {
   "cell_type": "code",
   "execution_count": 7,
   "id": "9b4609ea",
   "metadata": {},
   "outputs": [],
   "source": [
    "frame = Frame(root)\n",
    "frame.pack()\n"
   ]
  },
  {
   "cell_type": "code",
   "execution_count": 8,
   "id": "d16bba03",
   "metadata": {},
   "outputs": [],
   "source": [
    "hour = StringVar(root)\n",
    "hours = ('00', '01', '02', '03', '04', '05', '06', '07',\n",
    "\t\t'08', '09', '10', '11', '12', '13', '14', '15',\n",
    "\t\t'16', '17', '18', '19', '20', '21', '22', '23', '24'\n",
    "\t\t)\n",
    "hour.set(hours[0])"
   ]
  },
  {
   "cell_type": "code",
   "execution_count": 9,
   "id": "94849cac",
   "metadata": {},
   "outputs": [],
   "source": [
    "hrs = OptionMenu(frame, hour, *hours)\n",
    "hrs.pack(side=LEFT)"
   ]
  },
  {
   "cell_type": "code",
   "execution_count": 10,
   "id": "2909dbe5",
   "metadata": {},
   "outputs": [],
   "source": [
    "minute = StringVar(root)\n",
    "minutes = ('00', '01', '02', '03', '04', '05', '06', '07',\n",
    "\t\t'08', '09', '10', '11', '12', '13', '14', '15',\n",
    "\t\t'16', '17', '18', '19', '20', '21', '22', '23',\n",
    "\t\t'24', '25', '26', '27', '28', '29', '30', '31',\n",
    "\t\t'32', '33', '34', '35', '36', '37', '38', '39',\n",
    "\t\t'40', '41', '42', '43', '44', '45', '46', '47',\n",
    "\t\t'48', '49', '50', '51', '52', '53', '54', '55',\n",
    "\t\t'56', '57', '58', '59', '60')\n",
    "minute.set(minutes[0])"
   ]
  },
  {
   "cell_type": "code",
   "execution_count": 11,
   "id": "14150f08",
   "metadata": {},
   "outputs": [],
   "source": [
    "mins = OptionMenu(frame, minute, *minutes)\n",
    "mins.pack(side=LEFT)"
   ]
  },
  {
   "cell_type": "code",
   "execution_count": 12,
   "id": "2b65d43b",
   "metadata": {},
   "outputs": [],
   "source": [
    "second = StringVar(root)\n",
    "seconds = ('00', '01', '02', '03', '04', '05', '06', '07',\n",
    "\t\t'08', '09', '10', '11', '12', '13', '14', '15',\n",
    "\t\t'16', '17', '18', '19', '20', '21', '22', '23',\n",
    "\t\t'24', '25', '26', '27', '28', '29', '30', '31',\n",
    "\t\t'32', '33', '34', '35', '36', '37', '38', '39',\n",
    "\t\t'40', '41', '42', '43', '44', '45', '46', '47',\n",
    "\t\t'48', '49', '50', '51', '52', '53', '54', '55',\n",
    "\t\t'56', '57', '58', '59', '60')\n",
    "second.set(seconds[0])"
   ]
  },
  {
   "cell_type": "code",
   "execution_count": 13,
   "id": "e9f363fc",
   "metadata": {},
   "outputs": [],
   "source": [
    "secs = OptionMenu(frame, second, *seconds)\n",
    "secs.pack(side=LEFT)"
   ]
  },
  {
   "cell_type": "code",
   "execution_count": 14,
   "id": "ec0740bd",
   "metadata": {},
   "outputs": [],
   "source": [
    "Button(root,text=\"Set Alarm\",font=(\"Helvetica 15\"),command=Threading).pack(pady=20)"
   ]
  },
  {
   "cell_type": "code",
   "execution_count": null,
   "id": "05add6b5",
   "metadata": {},
   "outputs": [],
   "source": [
    "# Execute Tkinter\n",
    "root.mainloop()"
   ]
  },
  {
   "cell_type": "code",
   "execution_count": null,
   "id": "c79517dc",
   "metadata": {},
   "outputs": [],
   "source": []
  }
 ],
 "metadata": {
  "kernelspec": {
   "display_name": "Python 3 (ipykernel)",
   "language": "python",
   "name": "python3"
  },
  "language_info": {
   "codemirror_mode": {
    "name": "ipython",
    "version": 3
   },
   "file_extension": ".py",
   "mimetype": "text/x-python",
   "name": "python",
   "nbconvert_exporter": "python",
   "pygments_lexer": "ipython3",
   "version": "3.9.7"
  }
 },
 "nbformat": 4,
 "nbformat_minor": 5
}
